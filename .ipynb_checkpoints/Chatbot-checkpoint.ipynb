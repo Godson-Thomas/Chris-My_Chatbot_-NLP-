{
 "cells": [
  {
   "cell_type": "code",
   "execution_count": null,
   "metadata": {},
   "outputs": [],
   "source": [
    "from chatterbot import ChatBot\n",
    "from chatterbot.trainers import ListTrainer\n",
    "import  pyttsx3\n",
    "import win32com.client"
   ]
  },
  {
   "cell_type": "code",
   "execution_count": null,
   "metadata": {},
   "outputs": [],
   "source": [
    "engine=pyttsx3.init()\n",
    "engine.setProperty(\"rate\",128)\n",
    "engine.setProperty(\"volume\",1.4)\n",
    "\n",
    "chatbot=ChatBot('chatbot')\n",
    "trainer = ListTrainer(chatbot)\n"
   ]
  },
  {
   "cell_type": "code",
   "execution_count": null,
   "metadata": {},
   "outputs": [],
   "source": [
    "i=1\n",
    "while i<=20:\n",
    "    \n",
    "    \n",
    "    y20=open(\"/files/intro.txt\", 'r').readlines()\n",
    "    trainer.train(y20)\n",
    "    i=i+1\n",
    "\n"
   ]
  },
  {
   "cell_type": "code",
   "execution_count": null,
   "metadata": {},
   "outputs": [],
   "source": [
    "while True:\n",
    "    user=input(\"You:\")\n",
    "    if user.strip()==\"Bye\" or user.strip()==\"bye\" or user.strip()==\"bye.\":\n",
    "        print(\"ChatBot: Bye\")\n",
    "        engine.say(\"bye\")\n",
    "        engine.runAndWait()\n",
    "        break\n",
    "    else:\n",
    "\n",
    "        response=chatbot.get_response(user)\n",
    "        print(\"chatBot:\",response)\n",
    "        engine.say(response)\n",
    "        engine.runAndWait()\n",
    "    "
   ]
  },
  {
   "cell_type": "code",
   "execution_count": null,
   "metadata": {},
   "outputs": [],
   "source": []
  }
 ],
 "metadata": {
  "kernelspec": {
   "display_name": "Python 3",
   "language": "python",
   "name": "python3"
  },
  "language_info": {
   "codemirror_mode": {
    "name": "ipython",
    "version": 3
   },
   "file_extension": ".py",
   "mimetype": "text/x-python",
   "name": "python",
   "nbconvert_exporter": "python",
   "pygments_lexer": "ipython3",
   "version": "3.6.9"
  }
 },
 "nbformat": 4,
 "nbformat_minor": 2
}
